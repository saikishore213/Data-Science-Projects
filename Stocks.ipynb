{
 "cells": [
  {
   "cell_type": "code",
   "execution_count": 4,
   "metadata": {
    "colab": {
     "base_uri": "https://localhost:8080/"
    },
    "id": "fMzPCwaxa3y1",
    "outputId": "f776a0fa-8a69-47c4-8a92-231ad0f696f8"
   },
   "outputs": [
    {
     "name": "stdout",
     "output_type": "stream",
     "text": [
      "Requirement already satisfied: yfinance in /usr/local/lib/python3.10/dist-packages (0.2.31)\n",
      "Requirement already satisfied: pandas>=1.3.0 in /usr/local/lib/python3.10/dist-packages (from yfinance) (1.5.3)\n",
      "Requirement already satisfied: numpy>=1.16.5 in /usr/local/lib/python3.10/dist-packages (from yfinance) (1.23.5)\n",
      "Requirement already satisfied: requests>=2.31 in /usr/local/lib/python3.10/dist-packages (from yfinance) (2.31.0)\n",
      "Requirement already satisfied: multitasking>=0.0.7 in /usr/local/lib/python3.10/dist-packages (from yfinance) (0.0.11)\n",
      "Requirement already satisfied: lxml>=4.9.1 in /usr/local/lib/python3.10/dist-packages (from yfinance) (4.9.3)\n",
      "Requirement already satisfied: appdirs>=1.4.4 in /usr/local/lib/python3.10/dist-packages (from yfinance) (1.4.4)\n",
      "Requirement already satisfied: pytz>=2022.5 in /usr/local/lib/python3.10/dist-packages (from yfinance) (2023.3.post1)\n",
      "Requirement already satisfied: frozendict>=2.3.4 in /usr/local/lib/python3.10/dist-packages (from yfinance) (2.3.8)\n",
      "Requirement already satisfied: peewee>=3.16.2 in /usr/local/lib/python3.10/dist-packages (from yfinance) (3.17.0)\n",
      "Requirement already satisfied: beautifulsoup4>=4.11.1 in /usr/local/lib/python3.10/dist-packages (from yfinance) (4.11.2)\n",
      "Requirement already satisfied: html5lib>=1.1 in /usr/local/lib/python3.10/dist-packages (from yfinance) (1.1)\n",
      "Requirement already satisfied: soupsieve>1.2 in /usr/local/lib/python3.10/dist-packages (from beautifulsoup4>=4.11.1->yfinance) (2.5)\n",
      "Requirement already satisfied: six>=1.9 in /usr/local/lib/python3.10/dist-packages (from html5lib>=1.1->yfinance) (1.16.0)\n",
      "Requirement already satisfied: webencodings in /usr/local/lib/python3.10/dist-packages (from html5lib>=1.1->yfinance) (0.5.1)\n",
      "Requirement already satisfied: python-dateutil>=2.8.1 in /usr/local/lib/python3.10/dist-packages (from pandas>=1.3.0->yfinance) (2.8.2)\n",
      "Requirement already satisfied: charset-normalizer<4,>=2 in /usr/local/lib/python3.10/dist-packages (from requests>=2.31->yfinance) (3.3.2)\n",
      "Requirement already satisfied: idna<4,>=2.5 in /usr/local/lib/python3.10/dist-packages (from requests>=2.31->yfinance) (3.4)\n",
      "Requirement already satisfied: urllib3<3,>=1.21.1 in /usr/local/lib/python3.10/dist-packages (from requests>=2.31->yfinance) (2.0.7)\n",
      "Requirement already satisfied: certifi>=2017.4.17 in /usr/local/lib/python3.10/dist-packages (from requests>=2.31->yfinance) (2023.7.22)\n",
      "Requirement already satisfied: pandas in /usr/local/lib/python3.10/dist-packages (1.5.3)\n",
      "Requirement already satisfied: python-dateutil>=2.8.1 in /usr/local/lib/python3.10/dist-packages (from pandas) (2.8.2)\n",
      "Requirement already satisfied: pytz>=2020.1 in /usr/local/lib/python3.10/dist-packages (from pandas) (2023.3.post1)\n",
      "Requirement already satisfied: numpy>=1.21.0 in /usr/local/lib/python3.10/dist-packages (from pandas) (1.23.5)\n",
      "Requirement already satisfied: six>=1.5 in /usr/local/lib/python3.10/dist-packages (from python-dateutil>=2.8.1->pandas) (1.16.0)\n",
      "Requirement already satisfied: matplotlib in /usr/local/lib/python3.10/dist-packages (3.7.1)\n",
      "Requirement already satisfied: contourpy>=1.0.1 in /usr/local/lib/python3.10/dist-packages (from matplotlib) (1.2.0)\n",
      "Requirement already satisfied: cycler>=0.10 in /usr/local/lib/python3.10/dist-packages (from matplotlib) (0.12.1)\n",
      "Requirement already satisfied: fonttools>=4.22.0 in /usr/local/lib/python3.10/dist-packages (from matplotlib) (4.44.0)\n",
      "Requirement already satisfied: kiwisolver>=1.0.1 in /usr/local/lib/python3.10/dist-packages (from matplotlib) (1.4.5)\n",
      "Requirement already satisfied: numpy>=1.20 in /usr/local/lib/python3.10/dist-packages (from matplotlib) (1.23.5)\n",
      "Requirement already satisfied: packaging>=20.0 in /usr/local/lib/python3.10/dist-packages (from matplotlib) (23.2)\n",
      "Requirement already satisfied: pillow>=6.2.0 in /usr/local/lib/python3.10/dist-packages (from matplotlib) (9.4.0)\n",
      "Requirement already satisfied: pyparsing>=2.3.1 in /usr/local/lib/python3.10/dist-packages (from matplotlib) (3.1.1)\n",
      "Requirement already satisfied: python-dateutil>=2.7 in /usr/local/lib/python3.10/dist-packages (from matplotlib) (2.8.2)\n",
      "Requirement already satisfied: six>=1.5 in /usr/local/lib/python3.10/dist-packages (from python-dateutil>=2.7->matplotlib) (1.16.0)\n",
      "Requirement already satisfied: scikit-learn in /usr/local/lib/python3.10/dist-packages (1.2.2)\n",
      "Requirement already satisfied: numpy>=1.17.3 in /usr/local/lib/python3.10/dist-packages (from scikit-learn) (1.23.5)\n",
      "Requirement already satisfied: scipy>=1.3.2 in /usr/local/lib/python3.10/dist-packages (from scikit-learn) (1.11.3)\n",
      "Requirement already satisfied: joblib>=1.1.1 in /usr/local/lib/python3.10/dist-packages (from scikit-learn) (1.3.2)\n",
      "Requirement already satisfied: threadpoolctl>=2.0.0 in /usr/local/lib/python3.10/dist-packages (from scikit-learn) (3.2.0)\n"
     ]
    }
   ],
   "source": [
    "!pip install yfinance\n",
    "!pip install pandas\n",
    "!pip install matplotlib\n",
    "!pip install scikit-learn\n"
   ]
  },
  {
   "cell_type": "code",
   "execution_count": 5,
   "metadata": {
    "id": "xGKG90cCb4qb"
   },
   "outputs": [],
   "source": [
    "import yfinance as yf\n",
    "import numpy as np\n",
    "import pandas as pd\n",
    "from sklearn.preprocessing import MinMaxScaler\n",
    "from keras.models import Sequential\n",
    "from keras.layers import LSTM, Dense\n"
   ]
  },
  {
   "cell_type": "code",
   "execution_count": 6,
   "metadata": {
    "colab": {
     "base_uri": "https://localhost:8080/"
    },
    "id": "IQ0u0K6KeOyg",
    "outputId": "bdea9fde-daa7-4b74-8bbc-0d8626c5883e"
   },
   "outputs": [
    {
     "name": "stdout",
     "output_type": "stream",
     "text": [
      "\r",
      "[*********************100%%**********************]  1 of 1 completed\n"
     ]
    }
   ],
   "source": [
    "data = yf.download('AAPL', start='2020-01-01', end='2023-01-01')"
   ]
  },
  {
   "cell_type": "code",
   "execution_count": 7,
   "metadata": {
    "id": "T7H8hsi-fWC-"
   },
   "outputs": [],
   "source": [
    "df = data['Close'].values.reshape(-1, 1)"
   ]
  },
  {
   "cell_type": "code",
   "execution_count": 8,
   "metadata": {
    "id": "tgUxc2ZSfdtM"
   },
   "outputs": [],
   "source": [
    "scaler = MinMaxScaler(feature_range=(0, 1))\n",
    "df = scaler.fit_transform(df)"
   ]
  },
  {
   "cell_type": "code",
   "execution_count": 9,
   "metadata": {
    "id": "khoVa_RBfhGd"
   },
   "outputs": [],
   "source": [
    "training_size = int(len(df) * 0.75)\n",
    "train_data, test_data = df[0:training_size, :], df[training_size:len(df), :]"
   ]
  },
  {
   "cell_type": "code",
   "execution_count": 10,
   "metadata": {
    "id": "X2VYKwgefkBs"
   },
   "outputs": [],
   "source": [
    "def create_dataset(dataset, time_step=1):\n",
    "    dataX, dataY = [], []\n",
    "    for i in range(len(dataset) - time_step - 1):\n",
    "        a = dataset[i:(i + time_step), 0]\n",
    "        dataX.append(a)\n",
    "        dataY.append(dataset[i + time_step, 0])\n",
    "    return np.array(dataX), np.array(dataY)"
   ]
  },
  {
   "cell_type": "code",
   "execution_count": 11,
   "metadata": {
    "id": "xcJQJcWEfnPJ"
   },
   "outputs": [],
   "source": [
    "time_step = 100\n",
    "X_train, y_train = create_dataset(train_data, time_step)\n",
    "X_test, y_test = create_dataset(test_data, time_step)\n",
    "\n",
    "X_train = X_train.reshape(X_train.shape[0], X_train.shape[1], 1)\n",
    "X_test = X_test.reshape(X_test.shape[0], X_test.shape[1], 1)"
   ]
  },
  {
   "cell_type": "code",
   "execution_count": 12,
   "metadata": {
    "id": "rBO2t18qfrU4"
   },
   "outputs": [],
   "source": [
    "model = Sequential()\n",
    "model.add(LSTM(50, return_sequences=True, input_shape=(time_step, 1)))\n",
    "model.add(LSTM(50, return_sequences=True))\n",
    "model.add(LSTM(50))\n",
    "model.add(Dense(1))\n",
    "model.compile(loss='mean_squared_error', optimizer='adam')"
   ]
  },
  {
   "cell_type": "code",
   "execution_count": 13,
   "metadata": {
    "colab": {
     "base_uri": "https://localhost:8080/"
    },
    "id": "6cCc82hBfvex",
    "outputId": "7c8e324a-c152-4e04-aa9a-609b4413a19a"
   },
   "outputs": [
    {
     "name": "stdout",
     "output_type": "stream",
     "text": [
      "Epoch 1/100\n",
      "8/8 [==============================] - 10s 434ms/step - loss: 0.1177 - val_loss: 0.0243\n",
      "Epoch 2/100\n",
      "8/8 [==============================] - 1s 175ms/step - loss: 0.0182 - val_loss: 0.0140\n",
      "Epoch 3/100\n",
      "8/8 [==============================] - 1s 164ms/step - loss: 0.0105 - val_loss: 0.0114\n",
      "Epoch 4/100\n",
      "8/8 [==============================] - 1s 167ms/step - loss: 0.0073 - val_loss: 0.0041\n",
      "Epoch 5/100\n",
      "8/8 [==============================] - 1s 172ms/step - loss: 0.0061 - val_loss: 0.0055\n",
      "Epoch 6/100\n",
      "8/8 [==============================] - 1s 168ms/step - loss: 0.0047 - val_loss: 0.0024\n",
      "Epoch 7/100\n",
      "8/8 [==============================] - 1s 171ms/step - loss: 0.0040 - val_loss: 0.0047\n",
      "Epoch 8/100\n",
      "8/8 [==============================] - 2s 226ms/step - loss: 0.0033 - val_loss: 0.0031\n",
      "Epoch 9/100\n",
      "8/8 [==============================] - 2s 279ms/step - loss: 0.0031 - val_loss: 0.0059\n",
      "Epoch 10/100\n",
      "8/8 [==============================] - 2s 255ms/step - loss: 0.0030 - val_loss: 0.0044\n",
      "Epoch 11/100\n",
      "8/8 [==============================] - 3s 347ms/step - loss: 0.0031 - val_loss: 0.0032\n",
      "Epoch 12/100\n",
      "8/8 [==============================] - 3s 368ms/step - loss: 0.0032 - val_loss: 0.0066\n",
      "Epoch 13/100\n",
      "8/8 [==============================] - 3s 334ms/step - loss: 0.0030 - val_loss: 0.0050\n",
      "Epoch 14/100\n",
      "8/8 [==============================] - 4s 558ms/step - loss: 0.0028 - val_loss: 0.0043\n",
      "Epoch 15/100\n",
      "8/8 [==============================] - 2s 277ms/step - loss: 0.0028 - val_loss: 0.0042\n",
      "Epoch 16/100\n",
      "8/8 [==============================] - 1s 167ms/step - loss: 0.0027 - val_loss: 0.0062\n",
      "Epoch 17/100\n",
      "8/8 [==============================] - 1s 167ms/step - loss: 0.0028 - val_loss: 0.0038\n",
      "Epoch 18/100\n",
      "8/8 [==============================] - 1s 162ms/step - loss: 0.0029 - val_loss: 0.0029\n",
      "Epoch 19/100\n",
      "8/8 [==============================] - 1s 165ms/step - loss: 0.0027 - val_loss: 0.0038\n",
      "Epoch 20/100\n",
      "8/8 [==============================] - 1s 167ms/step - loss: 0.0027 - val_loss: 0.0080\n",
      "Epoch 21/100\n",
      "8/8 [==============================] - 1s 168ms/step - loss: 0.0031 - val_loss: 0.0049\n",
      "Epoch 22/100\n",
      "8/8 [==============================] - 1s 186ms/step - loss: 0.0028 - val_loss: 0.0034\n",
      "Epoch 23/100\n",
      "8/8 [==============================] - 2s 280ms/step - loss: 0.0025 - val_loss: 0.0041\n",
      "Epoch 24/100\n",
      "8/8 [==============================] - 2s 299ms/step - loss: 0.0025 - val_loss: 0.0061\n",
      "Epoch 25/100\n",
      "8/8 [==============================] - 2s 283ms/step - loss: 0.0026 - val_loss: 0.0046\n",
      "Epoch 26/100\n",
      "8/8 [==============================] - 2s 253ms/step - loss: 0.0025 - val_loss: 0.0040\n",
      "Epoch 27/100\n",
      "8/8 [==============================] - 1s 169ms/step - loss: 0.0024 - val_loss: 0.0032\n",
      "Epoch 28/100\n",
      "8/8 [==============================] - 2s 280ms/step - loss: 0.0024 - val_loss: 0.0051\n",
      "Epoch 29/100\n",
      "8/8 [==============================] - 2s 284ms/step - loss: 0.0024 - val_loss: 0.0041\n",
      "Epoch 30/100\n",
      "8/8 [==============================] - 2s 237ms/step - loss: 0.0024 - val_loss: 0.0040\n",
      "Epoch 31/100\n",
      "8/8 [==============================] - 2s 269ms/step - loss: 0.0025 - val_loss: 0.0037\n",
      "Epoch 32/100\n",
      "8/8 [==============================] - 2s 221ms/step - loss: 0.0024 - val_loss: 0.0044\n",
      "Epoch 33/100\n",
      "8/8 [==============================] - 1s 163ms/step - loss: 0.0023 - val_loss: 0.0057\n",
      "Epoch 34/100\n",
      "8/8 [==============================] - 1s 167ms/step - loss: 0.0024 - val_loss: 0.0038\n",
      "Epoch 35/100\n",
      "8/8 [==============================] - 1s 166ms/step - loss: 0.0023 - val_loss: 0.0058\n",
      "Epoch 36/100\n",
      "8/8 [==============================] - 1s 170ms/step - loss: 0.0024 - val_loss: 0.0047\n",
      "Epoch 37/100\n",
      "8/8 [==============================] - 1s 173ms/step - loss: 0.0022 - val_loss: 0.0046\n",
      "Epoch 38/100\n",
      "8/8 [==============================] - 1s 169ms/step - loss: 0.0022 - val_loss: 0.0051\n",
      "Epoch 39/100\n",
      "8/8 [==============================] - 1s 170ms/step - loss: 0.0025 - val_loss: 0.0028\n",
      "Epoch 40/100\n",
      "8/8 [==============================] - 2s 288ms/step - loss: 0.0024 - val_loss: 0.0026\n",
      "Epoch 41/100\n",
      "8/8 [==============================] - 2s 278ms/step - loss: 0.0022 - val_loss: 0.0026\n",
      "Epoch 42/100\n",
      "8/8 [==============================] - 1s 170ms/step - loss: 0.0022 - val_loss: 0.0024\n",
      "Epoch 43/100\n",
      "8/8 [==============================] - 1s 172ms/step - loss: 0.0022 - val_loss: 0.0029\n",
      "Epoch 44/100\n",
      "8/8 [==============================] - 2s 240ms/step - loss: 0.0021 - val_loss: 0.0029\n",
      "Epoch 45/100\n",
      "8/8 [==============================] - 1s 172ms/step - loss: 0.0022 - val_loss: 0.0032\n",
      "Epoch 46/100\n",
      "8/8 [==============================] - 1s 172ms/step - loss: 0.0022 - val_loss: 0.0034\n",
      "Epoch 47/100\n",
      "8/8 [==============================] - 1s 172ms/step - loss: 0.0021 - val_loss: 0.0047\n",
      "Epoch 48/100\n",
      "8/8 [==============================] - 1s 167ms/step - loss: 0.0021 - val_loss: 0.0032\n",
      "Epoch 49/100\n",
      "8/8 [==============================] - 2s 284ms/step - loss: 0.0020 - val_loss: 0.0023\n",
      "Epoch 50/100\n",
      "8/8 [==============================] - 3s 358ms/step - loss: 0.0021 - val_loss: 0.0022\n",
      "Epoch 51/100\n",
      "8/8 [==============================] - 1s 174ms/step - loss: 0.0021 - val_loss: 0.0040\n",
      "Epoch 52/100\n",
      "8/8 [==============================] - 1s 172ms/step - loss: 0.0020 - val_loss: 0.0027\n",
      "Epoch 53/100\n",
      "8/8 [==============================] - 1s 170ms/step - loss: 0.0019 - val_loss: 0.0025\n",
      "Epoch 54/100\n",
      "8/8 [==============================] - 1s 173ms/step - loss: 0.0018 - val_loss: 0.0028\n",
      "Epoch 55/100\n",
      "8/8 [==============================] - 1s 174ms/step - loss: 0.0019 - val_loss: 0.0020\n",
      "Epoch 56/100\n",
      "8/8 [==============================] - 1s 171ms/step - loss: 0.0022 - val_loss: 0.0020\n",
      "Epoch 57/100\n",
      "8/8 [==============================] - 1s 174ms/step - loss: 0.0019 - val_loss: 0.0026\n",
      "Epoch 58/100\n",
      "8/8 [==============================] - 2s 285ms/step - loss: 0.0017 - val_loss: 0.0023\n",
      "Epoch 59/100\n",
      "8/8 [==============================] - 2s 280ms/step - loss: 0.0017 - val_loss: 0.0029\n",
      "Epoch 60/100\n",
      "8/8 [==============================] - 2s 182ms/step - loss: 0.0017 - val_loss: 0.0038\n",
      "Epoch 61/100\n",
      "8/8 [==============================] - 1s 172ms/step - loss: 0.0018 - val_loss: 0.0021\n",
      "Epoch 62/100\n",
      "8/8 [==============================] - 1s 172ms/step - loss: 0.0017 - val_loss: 0.0023\n",
      "Epoch 63/100\n",
      "8/8 [==============================] - 1s 177ms/step - loss: 0.0016 - val_loss: 0.0020\n",
      "Epoch 64/100\n",
      "8/8 [==============================] - 1s 169ms/step - loss: 0.0017 - val_loss: 0.0023\n",
      "Epoch 65/100\n",
      "8/8 [==============================] - 1s 170ms/step - loss: 0.0017 - val_loss: 0.0039\n",
      "Epoch 66/100\n",
      "8/8 [==============================] - 1s 170ms/step - loss: 0.0019 - val_loss: 0.0051\n",
      "Epoch 67/100\n",
      "8/8 [==============================] - 2s 238ms/step - loss: 0.0020 - val_loss: 0.0037\n",
      "Epoch 68/100\n",
      "8/8 [==============================] - 2s 277ms/step - loss: 0.0018 - val_loss: 0.0025\n",
      "Epoch 69/100\n",
      "8/8 [==============================] - 2s 218ms/step - loss: 0.0016 - val_loss: 0.0020\n",
      "Epoch 70/100\n",
      "8/8 [==============================] - 1s 174ms/step - loss: 0.0018 - val_loss: 0.0020\n",
      "Epoch 71/100\n",
      "8/8 [==============================] - 1s 173ms/step - loss: 0.0015 - val_loss: 0.0023\n",
      "Epoch 72/100\n",
      "8/8 [==============================] - 1s 178ms/step - loss: 0.0015 - val_loss: 0.0027\n",
      "Epoch 73/100\n",
      "8/8 [==============================] - 1s 171ms/step - loss: 0.0014 - val_loss: 0.0037\n",
      "Epoch 74/100\n",
      "8/8 [==============================] - 1s 167ms/step - loss: 0.0015 - val_loss: 0.0047\n",
      "Epoch 75/100\n",
      "8/8 [==============================] - 1s 178ms/step - loss: 0.0017 - val_loss: 0.0024\n",
      "Epoch 76/100\n",
      "8/8 [==============================] - 2s 194ms/step - loss: 0.0015 - val_loss: 0.0029\n",
      "Epoch 77/100\n",
      "8/8 [==============================] - 2s 274ms/step - loss: 0.0014 - val_loss: 0.0039\n",
      "Epoch 78/100\n",
      "8/8 [==============================] - 2s 259ms/step - loss: 0.0016 - val_loss: 0.0027\n",
      "Epoch 79/100\n",
      "8/8 [==============================] - 1s 169ms/step - loss: 0.0014 - val_loss: 0.0020\n",
      "Epoch 80/100\n",
      "8/8 [==============================] - 1s 167ms/step - loss: 0.0015 - val_loss: 0.0021\n",
      "Epoch 81/100\n",
      "8/8 [==============================] - 1s 170ms/step - loss: 0.0014 - val_loss: 0.0021\n",
      "Epoch 82/100\n",
      "8/8 [==============================] - 1s 174ms/step - loss: 0.0014 - val_loss: 0.0029\n",
      "Epoch 83/100\n",
      "8/8 [==============================] - 1s 172ms/step - loss: 0.0017 - val_loss: 0.0041\n",
      "Epoch 84/100\n",
      "8/8 [==============================] - 1s 171ms/step - loss: 0.0014 - val_loss: 0.0020\n",
      "Epoch 85/100\n",
      "8/8 [==============================] - 1s 172ms/step - loss: 0.0014 - val_loss: 0.0036\n",
      "Epoch 86/100\n",
      "8/8 [==============================] - 2s 265ms/step - loss: 0.0015 - val_loss: 0.0040\n",
      "Epoch 87/100\n",
      "8/8 [==============================] - 2s 273ms/step - loss: 0.0015 - val_loss: 0.0023\n",
      "Epoch 88/100\n",
      "8/8 [==============================] - 2s 187ms/step - loss: 0.0014 - val_loss: 0.0021\n",
      "Epoch 89/100\n",
      "8/8 [==============================] - 1s 172ms/step - loss: 0.0013 - val_loss: 0.0023\n",
      "Epoch 90/100\n",
      "8/8 [==============================] - 1s 176ms/step - loss: 0.0013 - val_loss: 0.0027\n",
      "Epoch 91/100\n",
      "8/8 [==============================] - 1s 175ms/step - loss: 0.0013 - val_loss: 0.0022\n",
      "Epoch 92/100\n",
      "8/8 [==============================] - 1s 174ms/step - loss: 0.0012 - val_loss: 0.0019\n",
      "Epoch 93/100\n",
      "8/8 [==============================] - 1s 171ms/step - loss: 0.0016 - val_loss: 0.0029\n",
      "Epoch 94/100\n",
      "8/8 [==============================] - 1s 171ms/step - loss: 0.0015 - val_loss: 0.0033\n",
      "Epoch 95/100\n",
      "8/8 [==============================] - 2s 221ms/step - loss: 0.0014 - val_loss: 0.0019\n",
      "Epoch 96/100\n",
      "8/8 [==============================] - 2s 277ms/step - loss: 0.0013 - val_loss: 0.0019\n",
      "Epoch 97/100\n",
      "8/8 [==============================] - 2s 231ms/step - loss: 0.0013 - val_loss: 0.0019\n",
      "Epoch 98/100\n",
      "8/8 [==============================] - 1s 169ms/step - loss: 0.0013 - val_loss: 0.0026\n",
      "Epoch 99/100\n",
      "8/8 [==============================] - 1s 170ms/step - loss: 0.0014 - val_loss: 0.0020\n",
      "Epoch 100/100\n",
      "8/8 [==============================] - 1s 171ms/step - loss: 0.0012 - val_loss: 0.0021\n"
     ]
    },
    {
     "data": {
      "text/plain": [
       "<keras.src.callbacks.History at 0x7fa438d4b370>"
      ]
     },
     "execution_count": 13,
     "metadata": {},
     "output_type": "execute_result"
    }
   ],
   "source": [
    "model.fit(X_train, y_train, validation_data=(X_test, y_test), epochs=100, batch_size=64, verbose=1)"
   ]
  },
  {
   "cell_type": "code",
   "execution_count": 14,
   "metadata": {
    "colab": {
     "base_uri": "https://localhost:8080/"
    },
    "id": "Cx1DMlnTfwyw",
    "outputId": "60b28a60-1213-4648-fd76-cc8f076cd7f8"
   },
   "outputs": [
    {
     "name": "stdout",
     "output_type": "stream",
     "text": [
      "15/15 [==============================] - 2s 44ms/step\n",
      "3/3 [==============================] - 0s 31ms/step\n"
     ]
    }
   ],
   "source": [
    "train_predict = model.predict(X_train)\n",
    "test_predict = model.predict(X_test)"
   ]
  },
  {
   "cell_type": "code",
   "execution_count": 15,
   "metadata": {
    "id": "ut37htJyf0Jm"
   },
   "outputs": [],
   "source": [
    "train_predict = scaler.inverse_transform(train_predict)\n",
    "test_predict = scaler.inverse_transform(test_predict)"
   ]
  },
  {
   "cell_type": "code",
   "execution_count": 16,
   "metadata": {
    "colab": {
     "base_uri": "https://localhost:8080/"
    },
    "id": "qSPfUZ_Ff4De",
    "outputId": "a0dc8180-367b-4916-cf48-196710ae5d83"
   },
   "outputs": [
    {
     "data": {
      "text/plain": [
       "148.1115357120813"
      ]
     },
     "execution_count": 16,
     "metadata": {},
     "output_type": "execute_result"
    }
   ],
   "source": [
    "import math\n",
    "from sklearn.metrics import mean_squared_error\n",
    "math.sqrt(mean_squared_error(y_train, train_predict))\n",
    "math.sqrt(mean_squared_error(y_test, test_predict))"
   ]
  },
  {
   "cell_type": "code",
   "execution_count": 17,
   "metadata": {
    "colab": {
     "base_uri": "https://localhost:8080/",
     "height": 430
    },
    "id": "6iAsoHDZf9RE",
    "outputId": "d59b2a45-7f0a-4b69-b87c-2c18928075bc"
   },
   "outputs": [
    {
     "data": {
      "image/png": "[encoded data removed]",
      "text/plain": [
       "<Figure size 640x480 with 1 Axes>"
      ]
     },
     "metadata": {},
     "output_type": "display_data"
    }
   ],
   "source": [
    "look_back = time_step\n",
    "trainPredictPlot = np.empty_like(df)\n",
    "trainPredictPlot[:, :] = np.nan\n",
    "trainPredictPlot[look_back:len(train_predict) + look_back, :] = train_predict\n",
    "\n",
    "testPredictPlot = np.empty_like(df)\n",
    "testPredictPlot[:, :] = np.nan\n",
    "testPredictPlot[len(train_predict) + (look_back * 2) + 1:len(df) - 1, :] = test_predict\n",
    "\n",
    "import matplotlib.pyplot as plt\n",
    "\n",
    "plt.plot(scaler.inverse_transform(df))\n",
    "plt.plot(trainPredictPlot)\n",
    "plt.plot(testPredictPlot)\n",
    "plt.show()"
   ]
  },
  {
   "cell_type": "code",
   "execution_count": null,
   "metadata": {
    "id": "aY1JU3YXgaZ_"
   },
   "outputs": [],
   "source": []
  }
 ],
 "metadata": {
  "colab": {
   "provenance": []
  },
  "kernelspec": {
   "display_name": "Python 3 (ipykernel)",
   "language": "python",
   "name": "python3"
  },
  "language_info": {
   "codemirror_mode": {
    "name": "ipython",
    "version": 3
   },
   "file_extension": ".py",
   "mimetype": "text/x-python",
   "name": "python",
   "nbconvert_exporter": "python",
   "pygments_lexer": "ipython3",
   "version": "3.9.7"
  }
 },
 "nbformat": 4,
 "nbformat_minor": 1
}
